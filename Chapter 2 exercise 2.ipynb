{
 "cells": [
  {
   "cell_type": "markdown",
   "metadata": {},
   "source": [
    "## Import data"
   ]
  },
  {
   "cell_type": "code",
   "execution_count": 1,
   "metadata": {},
   "outputs": [],
   "source": [
    "import os\n",
    "import pandas as pd\n",
    "HOUSING_PATH = \"datasets/housing\"\n",
    "def load_housing_data():\n",
    "     housing_path = HOUSING_PATH\n",
    "     csv_path = os.path.join(housing_path, \"housing.csv\")\n",
    "     return pd.read_csv(csv_path)\n",
    "\n",
    "# All data are stored in housing using panda\n",
    "housing = load_housing_data()"
   ]
  },
  {
   "cell_type": "markdown",
   "metadata": {},
   "source": [
    "## Stratified sampling"
   ]
  },
  {
   "cell_type": "code",
   "execution_count": 2,
   "metadata": {},
   "outputs": [],
   "source": [
    "import numpy as np\n",
    "\n",
    "# Cap the outlier\n",
    "housing[\"income_cat\"] = np.ceil(housing[\"median_income\"] / 1.5)\n",
    "housing[\"income_cat\"].where(housing[\"income_cat\"] < 5, 5.0, inplace=True)\n",
    "\n",
    "# Stratified sampling\n",
    "from sklearn.model_selection import StratifiedShuffleSplit\n",
    "split = StratifiedShuffleSplit(n_splits=1, test_size=0.2, random_state=42)\n",
    "for train_index, test_index in split.split(housing, housing[\"income_cat\"]):\n",
    "     strat_train_set = housing.loc[train_index]\n",
    "     strat_test_set = housing.loc[test_index]\n",
    "    \n",
    "# Drop \"income_cat\" attribute    \n",
    "for set in (strat_train_set, strat_test_set):\n",
    "     set.drop([\"income_cat\"], axis=1, inplace=True)"
   ]
  },
  {
   "cell_type": "code",
   "execution_count": 3,
   "metadata": {},
   "outputs": [],
   "source": [
    "# Make a copy of the data in housing\n",
    "housing = strat_train_set.copy()"
   ]
  },
  {
   "cell_type": "markdown",
   "metadata": {},
   "source": [
    "## Data Cleaning"
   ]
  },
  {
   "cell_type": "code",
   "execution_count": 4,
   "metadata": {},
   "outputs": [],
   "source": [
    "# Remove the predictors, namely \"median_house_value\"\n",
    "housing = strat_train_set.drop(\"median_house_value\", axis=1)\n",
    "housing_labels = strat_train_set[\"median_house_value\"].copy()"
   ]
  },
  {
   "cell_type": "code",
   "execution_count": 5,
   "metadata": {},
   "outputs": [],
   "source": [
    "# Drop text attributes, namely \"ocean_proximity\", to compute median and apply them to missing values\n",
    "from sklearn.impute import SimpleImputer\n",
    "imputer = SimpleImputer(strategy=\"median\")\n",
    "housing_num = housing.drop(\"ocean_proximity\", axis=1)\n",
    "imputer.fit(housing_num)\n",
    "X = imputer.transform(housing_num)"
   ]
  },
  {
   "cell_type": "code",
   "execution_count": 6,
   "metadata": {},
   "outputs": [
    {
     "data": {
      "text/plain": [
       "array([[1, 0, 0, 0, 0],\n",
       "       [1, 0, 0, 0, 0],\n",
       "       [0, 0, 0, 0, 1],\n",
       "       ...,\n",
       "       [0, 1, 0, 0, 0],\n",
       "       [1, 0, 0, 0, 0],\n",
       "       [0, 0, 0, 1, 0]])"
      ]
     },
     "execution_count": 6,
     "metadata": {},
     "output_type": "execute_result"
    }
   ],
   "source": [
    "# Encode the text attribute \"ocean_proximity\" to binary values.\n",
    "from sklearn.base import TransformerMixin\n",
    "from sklearn.preprocessing import LabelBinarizer\n",
    "\n",
    "# Use MyLabelBinarizer to solve further error in the full pipeline\n",
    "class MyLabelBinarizer(TransformerMixin):\n",
    "    def __init__(self, *args, **kwargs):\n",
    "        self.encoder = LabelBinarizer(*args, **kwargs)\n",
    "    def fit(self, x, y=0):\n",
    "        self.encoder.fit(x)\n",
    "        return self\n",
    "    def transform(self, x, y=0):\n",
    "        return self.encoder.transform(x)\n",
    "\n",
    "housing_cat = housing[\"ocean_proximity\"]\n",
    "encoder = LabelBinarizer()\n",
    "housing_cat_1hot = encoder.fit_transform(housing_cat)\n",
    "housing_cat_1hot"
   ]
  },
  {
   "cell_type": "code",
   "execution_count": 7,
   "metadata": {},
   "outputs": [],
   "source": [
    "# Create a custom transformer to add add_bedrooms_per_room attribute\n",
    "from sklearn.base import BaseEstimator, TransformerMixin\n",
    "\n",
    "rooms_ix, bedrooms_ix, population_ix, household_ix = 3, 4, 5, 6\n",
    "\n",
    "class CombinedAttributesAdder(BaseEstimator, TransformerMixin):\n",
    "     def __init__(self, add_bedrooms_per_room = True): # no *args or **kargs\n",
    "         self.add_bedrooms_per_room = add_bedrooms_per_room\n",
    "     def fit(self, X, y=None):\n",
    "         return self # nothing else to do\n",
    "     def transform(self, X, y=None):\n",
    "         rooms_per_household = X[:, rooms_ix] / X[:, household_ix]\n",
    "         population_per_household = X[:, population_ix] / X[:, household_ix]\n",
    "         if self.add_bedrooms_per_room: # add_bedrooms_per_room is a helpful attribute\n",
    "             bedrooms_per_room = X[:, bedrooms_ix] / X[:, rooms_ix]\n",
    "             return np.c_[X, rooms_per_household, population_per_household,\n",
    " bedrooms_per_room]\n",
    "         else: # add_bedrooms_per_room is NOT a helpful attribute\n",
    "             return np.c_[X, rooms_per_household, population_per_household]"
   ]
  },
  {
   "cell_type": "code",
   "execution_count": 8,
   "metadata": {},
   "outputs": [],
   "source": [
    "# Apply the Custom transformer\n",
    "attr_adder = CombinedAttributesAdder(add_bedrooms_per_room=False)\n",
    "housing_extra_attribs = attr_adder.transform(housing.values)"
   ]
  },
  {
   "cell_type": "code",
   "execution_count": 9,
   "metadata": {},
   "outputs": [],
   "source": [
    "# Convert Pandas DataFrames to NumPy Array for Scikit-Learn to handle\n",
    "from sklearn.base import BaseEstimator, TransformerMixin\n",
    "class DataFrameSelector(BaseEstimator, TransformerMixin):\n",
    "     def __init__(self, attribute_names):\n",
    "         self.attribute_names = attribute_names\n",
    "     def fit(self, X, y=None):\n",
    "         return self\n",
    "     def transform(self, X):\n",
    "         return X[self.attribute_names].values"
   ]
  },
  {
   "cell_type": "markdown",
   "metadata": {},
   "source": [
    "## The whole pipeline to preprocess the data"
   ]
  },
  {
   "cell_type": "code",
   "execution_count": 10,
   "metadata": {},
   "outputs": [],
   "source": [
    "# The whole pipeline\n",
    "from sklearn.pipeline import Pipeline\n",
    "from sklearn.preprocessing import StandardScaler\n",
    "from sklearn.pipeline import FeatureUnion\n",
    "num_attribs = list(housing_num)\n",
    "cat_attribs = [\"ocean_proximity\"]\n",
    "num_pipeline = Pipeline([ # only handle numerical attributes\n",
    "     ('selector', DataFrameSelector(num_attribs)), # convert format\n",
    "     ('imputer', SimpleImputer(strategy=\"median\")), # take care missing values with median\n",
    "     ('attribs_adder', CombinedAttributesAdder()), # custom transformer, add add_bedrooms_per_room attribute\n",
    "     ('std_scaler', StandardScaler()), # Standardize the scale of the features, using Z-score\n",
    "     ])\n",
    "\n",
    "cat_pipeline = Pipeline([ # only handle text attributes\n",
    "     ('selector', DataFrameSelector(cat_attribs)), # convert format\n",
    "     ('label_binarizer', MyLabelBinarizer()), # tranform text to binary values\n",
    "     ])\n",
    "\n",
    "full_pipeline = FeatureUnion(transformer_list=[ # combine the two pipelines together\n",
    "     (\"num_pipeline\", num_pipeline),\n",
    "     (\"cat_pipeline\", cat_pipeline),\n",
    "     ])"
   ]
  },
  {
   "cell_type": "code",
   "execution_count": 11,
   "metadata": {},
   "outputs": [
    {
     "data": {
      "text/plain": [
       "array([[-1.15604281,  0.77194962,  0.74333089, ...,  0.        ,\n",
       "         0.        ,  0.        ],\n",
       "       [-1.17602483,  0.6596948 , -1.1653172 , ...,  0.        ,\n",
       "         0.        ,  0.        ],\n",
       "       [ 1.18684903, -1.34218285,  0.18664186, ...,  0.        ,\n",
       "         0.        ,  1.        ],\n",
       "       ...,\n",
       "       [ 1.58648943, -0.72478134, -1.56295222, ...,  0.        ,\n",
       "         0.        ,  0.        ],\n",
       "       [ 0.78221312, -0.85106801,  0.18664186, ...,  0.        ,\n",
       "         0.        ,  0.        ],\n",
       "       [-1.43579109,  0.99645926,  1.85670895, ...,  0.        ,\n",
       "         1.        ,  0.        ]])"
      ]
     },
     "execution_count": 11,
     "metadata": {},
     "output_type": "execute_result"
    }
   ],
   "source": [
    "# Activate the pipeline\n",
    "housing_prepared=full_pipeline.fit_transform(housing)\n",
    "housing_prepared"
   ]
  },
  {
   "cell_type": "markdown",
   "metadata": {},
   "source": [
    "## Select and Train models"
   ]
  },
  {
   "cell_type": "markdown",
   "metadata": {},
   "source": [
    "**Random Forest Regressor** found out to work the best, out of **Linear Regression** and **Decision Tree Regressor**"
   ]
  },
  {
   "cell_type": "code",
   "execution_count": 12,
   "metadata": {},
   "outputs": [
    {
     "data": {
      "text/plain": [
       "RandomForestRegressor()"
      ]
     },
     "execution_count": 12,
     "metadata": {},
     "output_type": "execute_result"
    }
   ],
   "source": [
    "# Train a random forest regressor model\n",
    "from sklearn.ensemble import RandomForestRegressor\n",
    "forest_reg = RandomForestRegressor()\n",
    "forest_reg.fit(housing_prepared, housing_labels)"
   ]
  },
  {
   "cell_type": "code",
   "execution_count": 13,
   "metadata": {},
   "outputs": [
    {
     "data": {
      "text/plain": [
       "18663.84658173304"
      ]
     },
     "execution_count": 13,
     "metadata": {},
     "output_type": "execute_result"
    }
   ],
   "source": [
    "# Measure RMSE on Random Forest Regressor on the whole training set\n",
    "from sklearn.metrics import mean_squared_error\n",
    "housing_predictions = forest_reg.predict(housing_prepared)\n",
    "forest_mse = mean_squared_error(housing_labels, housing_predictions)\n",
    "forest_rmse = np.sqrt(forest_mse)\n",
    "forest_rmse"
   ]
  },
  {
   "cell_type": "code",
   "execution_count": 14,
   "metadata": {},
   "outputs": [],
   "source": [
    "# Cross-validation on Random Forest Regressor into 10 folds\n",
    "from sklearn.model_selection import cross_val_score\n",
    "scores = cross_val_score(forest_reg, housing_prepared, housing_labels, scoring=\"neg_mean_squared_error\", cv=10)\n",
    "forest_rmse_scores = np.sqrt(-scores)"
   ]
  },
  {
   "cell_type": "code",
   "execution_count": 15,
   "metadata": {},
   "outputs": [
    {
     "name": "stdout",
     "output_type": "stream",
     "text": [
      "Scores: [49318.26453144 47741.04544413 49851.52808726 52001.10011359\n",
      " 49696.39300753 53046.83420805 48727.70730899 47993.93607886\n",
      " 52869.856021   49999.17083459]\n",
      "Mean: 50124.58356354372\n",
      "Standard deviation: 1808.130116400457\n"
     ]
    }
   ],
   "source": [
    "# Display the scores\n",
    "def display_scores(scores):\n",
    "    print(\"Scores:\", scores)\n",
    "    print(\"Mean:\", scores.mean())\n",
    "    print(\"Standard deviation:\", scores.std())\n",
    "\n",
    "display_scores(forest_rmse_scores)"
   ]
  },
  {
   "cell_type": "markdown",
   "metadata": {},
   "source": [
    "## *Randomized Search"
   ]
  },
  {
   "cell_type": "code",
   "execution_count": 18,
   "metadata": {},
   "outputs": [
    {
     "data": {
      "text/plain": [
       "RandomizedSearchCV(cv=5, estimator=RandomForestRegressor(),\n",
       "                   param_distributions={'max_features': range(2, 8),\n",
       "                                        'n_estimators': range(3, 30)},\n",
       "                   scoring='neg_mean_squared_error')"
      ]
     },
     "execution_count": 18,
     "metadata": {},
     "output_type": "execute_result"
    }
   ],
   "source": [
    "# Randomized Search for different combinations of features\n",
    "from sklearn.model_selection import RandomizedSearchCV\n",
    "param_dist = {'n_estimators': range(3,30), 'max_features': range(2,8)}\n",
    "\n",
    "forest_reg = RandomForestRegressor()\n",
    "\n",
    "# Cross-validation on all of them, each into 5 folds\n",
    "randomized_search = RandomizedSearchCV(forest_reg, param_dist, cv=5, scoring='neg_mean_squared_error')\n",
    "\n",
    "randomized_search.fit(housing_prepared, housing_labels)"
   ]
  },
  {
   "cell_type": "code",
   "execution_count": 20,
   "metadata": {},
   "outputs": [
    {
     "name": "stdout",
     "output_type": "stream",
     "text": [
      "49845.22344590638 {'n_estimators': 28, 'max_features': 6}\n",
      "51708.57454735382 {'n_estimators': 11, 'max_features': 7}\n",
      "50679.61124105442 {'n_estimators': 26, 'max_features': 4}\n",
      "51313.1943653622 {'n_estimators': 14, 'max_features': 7}\n",
      "52019.64358674851 {'n_estimators': 21, 'max_features': 3}\n",
      "50110.94894341091 {'n_estimators': 24, 'max_features': 7}\n",
      "53601.699256494954 {'n_estimators': 20, 'max_features': 2}\n",
      "50368.223022369406 {'n_estimators': 26, 'max_features': 7}\n",
      "51694.36048893563 {'n_estimators': 13, 'max_features': 5}\n",
      "51125.22449792342 {'n_estimators': 19, 'max_features': 4}\n"
     ]
    },
    {
     "data": {
      "text/plain": [
       "RandomForestRegressor(max_features=6, n_estimators=28)"
      ]
     },
     "execution_count": 20,
     "metadata": {},
     "output_type": "execute_result"
    }
   ],
   "source": [
    "cvres = randomized_search.cv_results_\n",
    "for mean_score, params in zip(cvres[\"mean_test_score\"], cvres[\"params\"]):\n",
    "    print(np.sqrt(-mean_score), params)\n",
    "randomized_search.best_estimator_"
   ]
  },
  {
   "cell_type": "markdown",
   "metadata": {},
   "source": [
    "## *Analyze the best model and their errors"
   ]
  },
  {
   "cell_type": "code",
   "execution_count": 21,
   "metadata": {},
   "outputs": [
    {
     "data": {
      "text/plain": [
       "[(0.31572455229481106, 'median_income'),\n",
       " (0.1432915485650362, 'INLAND'),\n",
       " (0.10329721347771985, 'pop_per_hhold'),\n",
       " (0.08457525211440466, 'bedrooms_per_room'),\n",
       " (0.08046018699616325, 'longitude'),\n",
       " (0.0748723429272985, 'latitude'),\n",
       " (0.06290284428457313, 'rooms_per_hhold'),\n",
       " (0.04157820490852283, 'housing_median_age'),\n",
       " (0.019201433518432034, 'total_rooms'),\n",
       " (0.017908350920785087, 'total_bedrooms'),\n",
       " (0.0175488667409378, 'population'),\n",
       " (0.015951518318327418, 'households'),\n",
       " (0.013097344855047491, '<1H OCEAN'),\n",
       " (0.005415600826689357, 'NEAR OCEAN'),\n",
       " (0.004072633287093761, 'NEAR BAY'),\n",
       " (0.00010210596415772989, 'ISLAND')]"
      ]
     },
     "execution_count": 21,
     "metadata": {},
     "output_type": "execute_result"
    }
   ],
   "source": [
    "# Show the importance of each features\n",
    "feature_importances = randomized_search.best_estimator_.feature_importances_\n",
    "extra_attribs = [\"rooms_per_hhold\", \"pop_per_hhold\", \"bedrooms_per_room\"]\n",
    "cat_one_hot_attribs = list(encoder.classes_)\n",
    "attributes = num_attribs + extra_attribs + cat_one_hot_attribs\n",
    "sorted(zip(feature_importances, attributes), reverse=True)"
   ]
  },
  {
   "cell_type": "markdown",
   "metadata": {},
   "source": [
    "## *Evaluate the System on the Test Set"
   ]
  },
  {
   "cell_type": "code",
   "execution_count": 22,
   "metadata": {},
   "outputs": [
    {
     "data": {
      "text/plain": [
       "47636.79947151527"
      ]
     },
     "execution_count": 22,
     "metadata": {},
     "output_type": "execute_result"
    }
   ],
   "source": [
    "# Take the best model\n",
    "final_model = randomized_search.best_estimator_\n",
    "\n",
    "X_test = strat_test_set.drop(\"median_house_value\", axis=1)\n",
    "y_test = strat_test_set[\"median_house_value\"].copy()\n",
    "\n",
    "# Go through the pipeline\n",
    "X_test_prepared = full_pipeline.transform(X_test)\n",
    "\n",
    "# Activate predict transform\n",
    "final_predictions = final_model.predict(X_test_prepared)\n",
    "\n",
    "# Measure RMSE on the prediction and the actual values\n",
    "final_mse = mean_squared_error(y_test, final_predictions)\n",
    "final_rmse = np.sqrt(final_mse)\n",
    "\n",
    "final_rmse"
   ]
  },
  {
   "cell_type": "code",
   "execution_count": null,
   "metadata": {},
   "outputs": [],
   "source": []
  }
 ],
 "metadata": {
  "kernelspec": {
   "display_name": "Python 3",
   "language": "python",
   "name": "python3"
  },
  "language_info": {
   "codemirror_mode": {
    "name": "ipython",
    "version": 3
   },
   "file_extension": ".py",
   "mimetype": "text/x-python",
   "name": "python",
   "nbconvert_exporter": "python",
   "pygments_lexer": "ipython3",
   "version": "3.8.3"
  }
 },
 "nbformat": 4,
 "nbformat_minor": 4
}
